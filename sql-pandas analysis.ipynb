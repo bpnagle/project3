{
 "cells": [
  {
   "cell_type": "code",
   "execution_count": 14,
   "metadata": {},
   "outputs": [],
   "source": [
    "import pandas as pd\n",
    "import psycopg2\n"
   ]
  },
  {
   "cell_type": "code",
   "execution_count": 15,
   "metadata": {},
   "outputs": [],
   "source": [
    "db_params = {\n",
    "    'host': 'localhost',\n",
    "    'database': 'project3',\n",
    "    'user': 'project3postgres',\n",
    "    'password': 'password',\n",
    "    'port': '5432'\n",
    "}"
   ]
  },
  {
   "cell_type": "code",
   "execution_count": 16,
   "metadata": {},
   "outputs": [
    {
     "name": "stderr",
     "output_type": "stream",
     "text": [
      "C:\\Users\\Wood\\AppData\\Local\\Temp\\ipykernel_28112\\3717074628.py:10: UserWarning: pandas only supports SQLAlchemy connectable (engine/connection) or database string URI or sqlite3 DBAPI2 connection. Other DBAPI2 objects are not tested. Please consider using SQLAlchemy.\n",
      "  df = pd.read_sql(query, connection)\n"
     ]
    },
    {
     "data": {
      "text/html": [
       "<div>\n",
       "<style scoped>\n",
       "    .dataframe tbody tr th:only-of-type {\n",
       "        vertical-align: middle;\n",
       "    }\n",
       "\n",
       "    .dataframe tbody tr th {\n",
       "        vertical-align: top;\n",
       "    }\n",
       "\n",
       "    .dataframe thead th {\n",
       "        text-align: right;\n",
       "    }\n",
       "</style>\n",
       "<table border=\"1\" class=\"dataframe\">\n",
       "  <thead>\n",
       "    <tr style=\"text-align: right;\">\n",
       "      <th></th>\n",
       "      <th>Date</th>\n",
       "      <th>Open</th>\n",
       "      <th>High</th>\n",
       "      <th>Low</th>\n",
       "      <th>Close</th>\n",
       "      <th>Percent_Change</th>\n",
       "    </tr>\n",
       "  </thead>\n",
       "  <tbody>\n",
       "    <tr>\n",
       "      <th>0</th>\n",
       "      <td>2019-01-01</td>\n",
       "      <td>131.90</td>\n",
       "      <td>140.51</td>\n",
       "      <td>130.67</td>\n",
       "      <td>139.61</td>\n",
       "      <td>5.522527</td>\n",
       "    </tr>\n",
       "    <tr>\n",
       "      <th>1</th>\n",
       "      <td>2019-01-02</td>\n",
       "      <td>139.58</td>\n",
       "      <td>155.93</td>\n",
       "      <td>138.74</td>\n",
       "      <td>152.95</td>\n",
       "      <td>8.741419</td>\n",
       "    </tr>\n",
       "    <tr>\n",
       "      <th>2</th>\n",
       "      <td>2019-01-03</td>\n",
       "      <td>152.96</td>\n",
       "      <td>154.30</td>\n",
       "      <td>144.39</td>\n",
       "      <td>146.94</td>\n",
       "      <td>-4.096910</td>\n",
       "    </tr>\n",
       "    <tr>\n",
       "      <th>3</th>\n",
       "      <td>2019-01-04</td>\n",
       "      <td>146.94</td>\n",
       "      <td>155.40</td>\n",
       "      <td>145.29</td>\n",
       "      <td>152.86</td>\n",
       "      <td>3.872825</td>\n",
       "    </tr>\n",
       "    <tr>\n",
       "      <th>4</th>\n",
       "      <td>2019-01-05</td>\n",
       "      <td>152.87</td>\n",
       "      <td>159.78</td>\n",
       "      <td>152.84</td>\n",
       "      <td>153.49</td>\n",
       "      <td>0.403935</td>\n",
       "    </tr>\n",
       "    <tr>\n",
       "      <th>...</th>\n",
       "      <td>...</td>\n",
       "      <td>...</td>\n",
       "      <td>...</td>\n",
       "      <td>...</td>\n",
       "      <td>...</td>\n",
       "      <td>...</td>\n",
       "    </tr>\n",
       "    <tr>\n",
       "      <th>1326</th>\n",
       "      <td>2022-08-19</td>\n",
       "      <td>1846.52</td>\n",
       "      <td>1846.97</td>\n",
       "      <td>1607.60</td>\n",
       "      <td>1609.48</td>\n",
       "      <td>-14.727738</td>\n",
       "    </tr>\n",
       "    <tr>\n",
       "      <th>1327</th>\n",
       "      <td>2022-08-20</td>\n",
       "      <td>1609.01</td>\n",
       "      <td>1654.84</td>\n",
       "      <td>1525.51</td>\n",
       "      <td>1575.60</td>\n",
       "      <td>-2.120462</td>\n",
       "    </tr>\n",
       "    <tr>\n",
       "      <th>1328</th>\n",
       "      <td>2022-08-21</td>\n",
       "      <td>1575.61</td>\n",
       "      <td>1644.88</td>\n",
       "      <td>1563.92</td>\n",
       "      <td>1618.25</td>\n",
       "      <td>2.634945</td>\n",
       "    </tr>\n",
       "    <tr>\n",
       "      <th>1329</th>\n",
       "      <td>2022-08-22</td>\n",
       "      <td>1618.21</td>\n",
       "      <td>1627.13</td>\n",
       "      <td>1531.91</td>\n",
       "      <td>1626.75</td>\n",
       "      <td>0.524973</td>\n",
       "    </tr>\n",
       "    <tr>\n",
       "      <th>1330</th>\n",
       "      <td>2022-08-23</td>\n",
       "      <td>1626.70</td>\n",
       "      <td>1636.32</td>\n",
       "      <td>1615.55</td>\n",
       "      <td>1623.24</td>\n",
       "      <td>-0.213154</td>\n",
       "    </tr>\n",
       "  </tbody>\n",
       "</table>\n",
       "<p>1331 rows × 6 columns</p>\n",
       "</div>"
      ],
      "text/plain": [
       "            Date     Open     High      Low    Close  Percent_Change\n",
       "0     2019-01-01   131.90   140.51   130.67   139.61        5.522527\n",
       "1     2019-01-02   139.58   155.93   138.74   152.95        8.741419\n",
       "2     2019-01-03   152.96   154.30   144.39   146.94       -4.096910\n",
       "3     2019-01-04   146.94   155.40   145.29   152.86        3.872825\n",
       "4     2019-01-05   152.87   159.78   152.84   153.49        0.403935\n",
       "...          ...      ...      ...      ...      ...             ...\n",
       "1326  2022-08-19  1846.52  1846.97  1607.60  1609.48      -14.727738\n",
       "1327  2022-08-20  1609.01  1654.84  1525.51  1575.60       -2.120462\n",
       "1328  2022-08-21  1575.61  1644.88  1563.92  1618.25        2.634945\n",
       "1329  2022-08-22  1618.21  1627.13  1531.91  1626.75        0.524973\n",
       "1330  2022-08-23  1626.70  1636.32  1615.55  1623.24       -0.213154\n",
       "\n",
       "[1331 rows x 6 columns]"
      ]
     },
     "execution_count": 16,
     "metadata": {},
     "output_type": "execute_result"
    }
   ],
   "source": [
    "# Variabel to select witch table you want to use\n",
    "table = 'ethereum'\n",
    "# SQL query to select data from a table\n",
    "query = f'SELECT * FROM {table}'\n",
    "\n",
    "# Create a connection to the PostgreSQL database\n",
    "connection = psycopg2.connect(**db_params)\n",
    "\n",
    "# Use pd.read_sql to read data from the database into a DataFrame\n",
    "df = pd.read_sql(query, connection)\n",
    "df"
   ]
  },
  {
   "cell_type": "code",
   "execution_count": 17,
   "metadata": {},
   "outputs": [
    {
     "data": {
      "text/plain": [
       "Date               object\n",
       "Open              float64\n",
       "High              float64\n",
       "Low               float64\n",
       "Close             float64\n",
       "Percent_Change    float64\n",
       "dtype: object"
      ]
     },
     "execution_count": 17,
     "metadata": {},
     "output_type": "execute_result"
    }
   ],
   "source": [
    "df.dtypes"
   ]
  },
  {
   "cell_type": "code",
   "execution_count": 18,
   "metadata": {},
   "outputs": [],
   "source": [
    "# Initialize variables\n",
    "#amount of cash you want to use \n",
    "initial_cash = 100  \n",
    "cash = initial_cash\n",
    "shares = 0  \n",
    "total_investment_value = 0\n",
    "days_since_last_purchase = 0\n",
    "reset_counter = 0\n",
    "#how often you want to buy\n",
    "reset_frequency = 20 "
   ]
  },
  {
   "cell_type": "code",
   "execution_count": 19,
   "metadata": {},
   "outputs": [
    {
     "name": "stdout",
     "output_type": "stream",
     "text": [
      "2019-01-21: Purchased 0.8509 shares at $117.52 each.\n",
      "2019-02-10: Purchased 0.8372 shares at $119.44 each.\n",
      "2019-03-02: Purchased 0.7368 shares at $135.72 each.\n",
      "2019-03-22: Purchased 0.7401 shares at $135.11 each.\n",
      "2019-04-11: Purchased 0.5637 shares at $177.39 each.\n",
      "2019-05-01: Purchased 0.6179 shares at $161.84 each.\n",
      "2019-05-21: Purchased 0.3989 shares at $250.72 each.\n",
      "2019-06-10: Purchased 0.4325 shares at $231.21 each.\n",
      "2019-06-30: Purchased 0.3142 shares at $318.26 each.\n",
      "2019-07-20: Purchased 0.4543 shares at $220.11 each.\n",
      "2019-08-09: Purchased 0.4543 shares at $220.12 each.\n",
      "2019-08-29: Purchased 0.5785 shares at $172.85 each.\n",
      "2019-09-18: Purchased 0.4812 shares at $207.80 each.\n",
      "2019-10-08: Purchased 0.5561 shares at $179.81 each.\n",
      "2019-10-28: Purchased 0.5433 shares at $184.06 each.\n",
      "2019-11-17: Purchased 0.5483 shares at $182.39 each.\n",
      "2019-12-07: Purchased 0.6717 shares at $148.88 each.\n",
      "2019-12-27: Purchased 0.7942 shares at $125.92 each.\n",
      "2020-01-16: Purchased 0.6008 shares at $166.44 each.\n",
      "2020-02-05: Purchased 0.5293 shares at $188.94 each.\n",
      "2020-02-25: Purchased 0.3765 shares at $265.63 each.\n",
      "2020-03-16: Purchased 0.8042 shares at $124.35 each.\n",
      "2020-04-05: Purchased 0.6943 shares at $144.03 each.\n",
      "2020-04-25: Purchased 0.5331 shares at $187.57 each.\n",
      "2020-05-15: Purchased 0.4919 shares at $203.29 each.\n",
      "2020-06-04: Purchased 0.4089 shares at $244.53 each.\n",
      "2020-06-24: Purchased 0.4112 shares at $243.20 each.\n",
      "2020-07-14: Purchased 0.4171 shares at $239.75 each.\n",
      "2020-08-03: Purchased 0.2686 shares at $372.26 each.\n",
      "2020-08-23: Purchased 0.2528 shares at $395.56 each.\n",
      "2020-09-12: Purchased 0.2676 shares at $373.74 each.\n",
      "2020-10-02: Purchased 0.2832 shares at $353.06 each.\n",
      "2020-10-22: Purchased 0.2555 shares at $391.39 each.\n",
      "2020-11-11: Purchased 0.2221 shares at $450.26 each.\n",
      "2020-12-01: Purchased 0.1621 shares at $616.78 each.\n",
      "2020-12-21: Purchased 0.1567 shares at $638.28 each.\n",
      "2021-01-10: Purchased 0.0784 shares at $1275.87 each.\n",
      "2021-01-30: Purchased 0.0725 shares at $1379.78 each.\n",
      "2021-02-19: Purchased 0.0517 shares at $1934.17 each.\n",
      "2021-03-11: Purchased 0.0557 shares at $1794.28 each.\n",
      "2021-03-31: Purchased 0.0543 shares at $1841.01 each.\n",
      "2021-04-20: Purchased 0.0463 shares at $2161.06 each.\n",
      "2021-05-10: Purchased 0.0255 shares at $3923.48 each.\n",
      "2021-05-30: Purchased 0.0439 shares at $2276.97 each.\n",
      "2021-06-19: Purchased 0.0449 shares at $2229.53 each.\n",
      "2021-07-09: Purchased 0.0472 shares at $2120.05 each.\n",
      "2021-07-29: Purchased 0.0435 shares at $2299.46 each.\n",
      "2021-08-18: Purchased 0.0332 shares at $3012.62 each.\n",
      "2021-09-07: Purchased 0.0255 shares at $3926.84 each.\n",
      "2021-09-27: Purchased 0.0327 shares at $3061.86 each.\n",
      "2021-10-17: Purchased 0.0261 shares at $3827.55 each.\n",
      "2021-11-06: Purchased 0.0223 shares at $4475.00 each.\n",
      "2021-11-26: Purchased 0.0221 shares at $4520.30 each.\n",
      "2021-12-16: Purchased 0.0249 shares at $4019.57 each.\n",
      "2022-01-05: Purchased 0.0264 shares at $3784.47 each.\n",
      "2022-01-25: Purchased 0.0410 shares at $2441.01 each.\n",
      "2022-02-14: Purchased 0.0348 shares at $2871.06 each.\n",
      "2022-03-06: Purchased 0.0375 shares at $2665.42 each.\n",
      "2022-03-26: Purchased 0.0322 shares at $3103.43 each.\n",
      "2022-04-15: Purchased 0.0331 shares at $3021.93 each.\n",
      "2022-05-05: Purchased 0.0340 shares at $2940.70 each.\n",
      "2022-05-25: Purchased 0.0505 shares at $1979.40 each.\n",
      "2022-06-14: Purchased 0.0829 shares at $1206.67 each.\n",
      "2022-07-04: Purchased 0.0931 shares at $1074.07 each.\n",
      "2022-07-24: Purchased 0.0645 shares at $1549.61 each.\n",
      "2022-08-13: Purchased 0.0511 shares at $1957.62 each.\n",
      "\n",
      "Final Result: 19.0419 fractional shares owned. Remaining cash: $0.00\n",
      "Total Investment Value: $37769.69\n"
     ]
    }
   ],
   "source": [
    "\n",
    "# Iterate through the DataFrame\n",
    "for index, row in df.iterrows():\n",
    "    # Assuming you want to buy stocks based on the 'open' price\n",
    "    stock_price = row['Open']\n",
    "    \n",
    "    \n",
    "    \n",
    "    if reset_counter >= reset_frequency:\n",
    "        cash = initial_cash\n",
    "        days_since_last_purchase = 0\n",
    "        reset_counter = 0\n",
    "        purchase_fraction = cash / stock_price\n",
    "        cash -=purchase_fraction * stock_price\n",
    "        shares += purchase_fraction\n",
    "        \n",
    "        total_investment_value = (shares * row['Close'])\n",
    "        print(f\"{row['Date'].strftime('%Y-%m-%d')}: Purchased {purchase_fraction:.4f} shares at ${stock_price:.2f} each.\")\n",
    "        \n",
    "\n",
    "   \n",
    "\n",
    "    # Increment days_since_last_purchase and reset_counter\n",
    "    days_since_last_purchase += 1\n",
    "    reset_counter += 1\n",
    "\n",
    "# Output the final result\n",
    "print(f\"\\nFinal Result: {shares:.4f} fractional shares owned. Remaining cash: ${cash:.2f}\")\n",
    "print(f\"Total Investment Value: ${total_investment_value:.2f}\")"
   ]
  },
  {
   "cell_type": "code",
   "execution_count": 20,
   "metadata": {},
   "outputs": [],
   "source": [
    "#amount of cash you want to invest initially\n",
    "initial_investment = 1000  \n",
    "initial_cash = initial_investment\n",
    "initial_investment_shares = 0  "
   ]
  },
  {
   "cell_type": "code",
   "execution_count": 21,
   "metadata": {},
   "outputs": [],
   "source": [
    "initial_price = df.iloc[0]\n",
    "current_price = df.iloc[-1]"
   ]
  },
  {
   "cell_type": "code",
   "execution_count": 22,
   "metadata": {},
   "outputs": [
    {
     "name": "stdout",
     "output_type": "stream",
     "text": [
      "7.58150113722517\n"
     ]
    }
   ],
   "source": [
    "initial_purchase = (initial_investment/initial_price['Open'])\n",
    "print(initial_purchase)"
   ]
  },
  {
   "cell_type": "code",
   "execution_count": 23,
   "metadata": {},
   "outputs": [
    {
     "name": "stdout",
     "output_type": "stream",
     "text": [
      "12306.595905989385\n"
     ]
    }
   ],
   "source": [
    "NAV = initial_purchase * current_price['Close']\n",
    "print(NAV)\n",
    "\n"
   ]
  },
  {
   "cell_type": "code",
   "execution_count": 24,
   "metadata": {},
   "outputs": [
    {
     "name": "stdout",
     "output_type": "stream",
     "text": [
      "Net Asset Value: $50076.28\n"
     ]
    }
   ],
   "source": [
    "\n",
    "actual_NAV = NAV + total_investment_value\n",
    "print(f\"Net Asset Value: ${actual_NAV:.2f}\")\n"
   ]
  },
  {
   "cell_type": "code",
   "execution_count": null,
   "metadata": {},
   "outputs": [],
   "source": []
  }
 ],
 "metadata": {
  "kernelspec": {
   "display_name": "base",
   "language": "python",
   "name": "python3"
  },
  "language_info": {
   "codemirror_mode": {
    "name": "ipython",
    "version": 3
   },
   "file_extension": ".py",
   "mimetype": "text/x-python",
   "name": "python",
   "nbconvert_exporter": "python",
   "pygments_lexer": "ipython3",
   "version": "3.11.5"
  }
 },
 "nbformat": 4,
 "nbformat_minor": 2
}
