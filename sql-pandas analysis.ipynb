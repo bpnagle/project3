{
 "cells": [
  {
   "cell_type": "code",
   "execution_count": 24,
   "metadata": {},
   "outputs": [],
   "source": [
    "import pandas as pd\n",
    "import psycopg2\n"
   ]
  },
  {
   "cell_type": "code",
   "execution_count": 29,
   "metadata": {},
   "outputs": [],
   "source": [
    "db_params = {\n",
    "    'host': 'localhost',\n",
    "    'database': 'project3',\n",
    "    'user': 'project3postgres',\n",
    "    'password': 'password',\n",
    "    'port': '5432'\n",
    "}"
   ]
  },
  {
   "cell_type": "code",
   "execution_count": 33,
   "metadata": {},
   "outputs": [
    {
     "name": "stderr",
     "output_type": "stream",
     "text": [
      "C:\\Users\\Wood\\AppData\\Local\\Temp\\ipykernel_28884\\1400875298.py:10: UserWarning: pandas only supports SQLAlchemy connectable (engine/connection) or database string URI or sqlite3 DBAPI2 connection. Other DBAPI2 objects are not tested. Please consider using SQLAlchemy.\n",
      "  df = pd.read_sql(query, connection)\n"
     ]
    },
    {
     "data": {
      "text/html": [
       "<div>\n",
       "<style scoped>\n",
       "    .dataframe tbody tr th:only-of-type {\n",
       "        vertical-align: middle;\n",
       "    }\n",
       "\n",
       "    .dataframe tbody tr th {\n",
       "        vertical-align: top;\n",
       "    }\n",
       "\n",
       "    .dataframe thead th {\n",
       "        text-align: right;\n",
       "    }\n",
       "</style>\n",
       "<table border=\"1\" class=\"dataframe\">\n",
       "  <thead>\n",
       "    <tr style=\"text-align: right;\">\n",
       "      <th></th>\n",
       "      <th>Date</th>\n",
       "      <th>Open</th>\n",
       "      <th>High</th>\n",
       "      <th>Low</th>\n",
       "      <th>Close</th>\n",
       "      <th>Percent_Change</th>\n",
       "    </tr>\n",
       "  </thead>\n",
       "  <tbody>\n",
       "    <tr>\n",
       "      <th>0</th>\n",
       "      <td>2023-01-30</td>\n",
       "      <td>244.51</td>\n",
       "      <td>245.60</td>\n",
       "      <td>242.20</td>\n",
       "      <td>242.71</td>\n",
       "      <td>-0.74</td>\n",
       "    </tr>\n",
       "    <tr>\n",
       "      <th>1</th>\n",
       "      <td>2023-01-31</td>\n",
       "      <td>243.45</td>\n",
       "      <td>247.95</td>\n",
       "      <td>242.95</td>\n",
       "      <td>247.81</td>\n",
       "      <td>1.79</td>\n",
       "    </tr>\n",
       "    <tr>\n",
       "      <th>2</th>\n",
       "      <td>2023-02-01</td>\n",
       "      <td>248.00</td>\n",
       "      <td>255.18</td>\n",
       "      <td>245.47</td>\n",
       "      <td>252.75</td>\n",
       "      <td>1.92</td>\n",
       "    </tr>\n",
       "    <tr>\n",
       "      <th>3</th>\n",
       "      <td>2023-02-02</td>\n",
       "      <td>258.82</td>\n",
       "      <td>264.69</td>\n",
       "      <td>257.25</td>\n",
       "      <td>264.60</td>\n",
       "      <td>2.23</td>\n",
       "    </tr>\n",
       "    <tr>\n",
       "      <th>4</th>\n",
       "      <td>2023-02-03</td>\n",
       "      <td>259.54</td>\n",
       "      <td>264.20</td>\n",
       "      <td>257.10</td>\n",
       "      <td>258.35</td>\n",
       "      <td>-0.46</td>\n",
       "    </tr>\n",
       "    <tr>\n",
       "      <th>...</th>\n",
       "      <td>...</td>\n",
       "      <td>...</td>\n",
       "      <td>...</td>\n",
       "      <td>...</td>\n",
       "      <td>...</td>\n",
       "      <td>...</td>\n",
       "    </tr>\n",
       "    <tr>\n",
       "      <th>246</th>\n",
       "      <td>2024-01-23</td>\n",
       "      <td>395.75</td>\n",
       "      <td>399.38</td>\n",
       "      <td>393.93</td>\n",
       "      <td>398.90</td>\n",
       "      <td>0.80</td>\n",
       "    </tr>\n",
       "    <tr>\n",
       "      <th>247</th>\n",
       "      <td>2024-01-24</td>\n",
       "      <td>401.54</td>\n",
       "      <td>405.63</td>\n",
       "      <td>400.45</td>\n",
       "      <td>402.56</td>\n",
       "      <td>0.25</td>\n",
       "    </tr>\n",
       "    <tr>\n",
       "      <th>248</th>\n",
       "      <td>2024-01-25</td>\n",
       "      <td>404.32</td>\n",
       "      <td>407.01</td>\n",
       "      <td>402.53</td>\n",
       "      <td>404.87</td>\n",
       "      <td>0.14</td>\n",
       "    </tr>\n",
       "    <tr>\n",
       "      <th>249</th>\n",
       "      <td>2024-01-26</td>\n",
       "      <td>404.37</td>\n",
       "      <td>406.17</td>\n",
       "      <td>402.43</td>\n",
       "      <td>403.93</td>\n",
       "      <td>-0.11</td>\n",
       "    </tr>\n",
       "    <tr>\n",
       "      <th>250</th>\n",
       "      <td>2024-01-29</td>\n",
       "      <td>406.06</td>\n",
       "      <td>409.98</td>\n",
       "      <td>404.33</td>\n",
       "      <td>409.72</td>\n",
       "      <td>0.90</td>\n",
       "    </tr>\n",
       "  </tbody>\n",
       "</table>\n",
       "<p>251 rows × 6 columns</p>\n",
       "</div>"
      ],
      "text/plain": [
       "           Date    Open    High     Low   Close  Percent_Change\n",
       "0    2023-01-30  244.51  245.60  242.20  242.71           -0.74\n",
       "1    2023-01-31  243.45  247.95  242.95  247.81            1.79\n",
       "2    2023-02-01  248.00  255.18  245.47  252.75            1.92\n",
       "3    2023-02-02  258.82  264.69  257.25  264.60            2.23\n",
       "4    2023-02-03  259.54  264.20  257.10  258.35           -0.46\n",
       "..          ...     ...     ...     ...     ...             ...\n",
       "246  2024-01-23  395.75  399.38  393.93  398.90            0.80\n",
       "247  2024-01-24  401.54  405.63  400.45  402.56            0.25\n",
       "248  2024-01-25  404.32  407.01  402.53  404.87            0.14\n",
       "249  2024-01-26  404.37  406.17  402.43  403.93           -0.11\n",
       "250  2024-01-29  406.06  409.98  404.33  409.72            0.90\n",
       "\n",
       "[251 rows x 6 columns]"
      ]
     },
     "execution_count": 33,
     "metadata": {},
     "output_type": "execute_result"
    }
   ],
   "source": [
    "# Variabel to select witch table you want to use\n",
    "table = 'nflx'\n",
    "# SQL query to select data from a table\n",
    "query = f'SELECT * FROM {table}'\n",
    "\n",
    "# Create a connection to the PostgreSQL database\n",
    "connection = psycopg2.connect(**db_params)\n",
    "\n",
    "# Use pd.read_sql to read data from the database into a DataFrame\n",
    "df = pd.read_sql(query, connection)\n",
    "df"
   ]
  },
  {
   "cell_type": "code",
   "execution_count": 16,
   "metadata": {},
   "outputs": [
    {
     "data": {
      "text/plain": [
       "Date               object\n",
       "Open              float64\n",
       "High              float64\n",
       "Low               float64\n",
       "Close             float64\n",
       "Volume            float64\n",
       "Change            float64\n",
       "Percent_Change    float64\n",
       "dtype: object"
      ]
     },
     "execution_count": 16,
     "metadata": {},
     "output_type": "execute_result"
    }
   ],
   "source": [
    "df.dtypes"
   ]
  },
  {
   "cell_type": "code",
   "execution_count": 17,
   "metadata": {},
   "outputs": [],
   "source": [
    "# Initialize variables\n",
    "#amount of cash you want to use \n",
    "initial_cash = 100  \n",
    "cash = initial_cash\n",
    "shares = 0  \n",
    "total_investment_value = 0\n",
    "days_since_last_purchase = 0\n",
    "reset_counter = 0\n",
    "#how often you want to buy\n",
    "reset_frequency = 20 "
   ]
  },
  {
   "cell_type": "code",
   "execution_count": 18,
   "metadata": {},
   "outputs": [
    {
     "name": "stdout",
     "output_type": "stream",
     "text": [
      "2019-01-31: Purchased 1.1815 shares at $84.64 each.\n",
      "2019-03-01: Purchased 1.2083 shares at $82.76 each.\n",
      "2019-03-29: Purchased 1.1194 shares at $89.33 each.\n",
      "2019-04-29: Purchased 1.0262 shares at $97.45 each.\n",
      "2019-05-28: Purchased 1.0912 shares at $91.64 each.\n",
      "2019-06-25: Purchased 1.0461 shares at $95.59 each.\n",
      "2019-07-24: Purchased 1.0156 shares at $98.46 each.\n",
      "2019-08-21: Purchased 1.0993 shares at $90.97 each.\n",
      "2019-09-19: Purchased 1.0983 shares at $91.05 each.\n",
      "2019-10-17: Purchased 1.1133 shares at $89.82 each.\n",
      "2019-11-14: Purchased 1.1419 shares at $87.57 each.\n",
      "2019-12-13: Purchased 1.1331 shares at $88.25 each.\n",
      "2020-01-14: Purchased 1.0606 shares at $94.29 each.\n",
      "2020-02-12: Purchased 0.9246 shares at $108.16 each.\n",
      "2020-03-12: Purchased 1.1614 shares at $86.10 each.\n",
      "2020-04-09: Purchased 0.9784 shares at $102.21 each.\n",
      "2020-05-08: Purchased 0.8431 shares at $118.61 each.\n",
      "2020-06-08: Purchased 0.7999 shares at $125.01 each.\n",
      "2020-07-07: Purchased 0.6539 shares at $152.93 each.\n",
      "2020-08-04: Purchased 0.6449 shares at $155.06 each.\n",
      "2020-09-01: Purchased 0.5731 shares at $174.48 each.\n",
      "2020-09-30: Purchased 0.6367 shares at $157.06 each.\n",
      "2020-10-28: Purchased 0.6155 shares at $162.46 each.\n",
      "2020-11-25: Purchased 0.6366 shares at $157.09 each.\n",
      "2020-12-24: Purchased 0.6262 shares at $159.70 each.\n",
      "2021-01-26: Purchased 0.6067 shares at $164.82 each.\n",
      "2021-02-24: Purchased 0.6316 shares at $158.34 each.\n",
      "2021-03-24: Purchased 0.6347 shares at $157.55 each.\n",
      "2021-04-22: Purchased 0.5932 shares at $168.58 each.\n",
      "2021-05-20: Purchased 0.6164 shares at $162.22 each.\n",
      "2021-06-18: Purchased 0.5747 shares at $174.00 each.\n",
      "2021-07-19: Purchased 0.5662 shares at $176.63 each.\n",
      "2021-08-16: Purchased 0.6092 shares at $164.15 each.\n",
      "2021-09-14: Purchased 0.5754 shares at $173.78 each.\n",
      "2021-10-12: Purchased 0.6141 shares at $162.85 each.\n",
      "2021-11-09: Purchased 0.5690 shares at $175.76 each.\n",
      "2021-12-08: Purchased 0.5677 shares at $176.15 each.\n",
      "2022-01-06: Purchased 0.6118 shares at $163.45 each.\n",
      "2022-02-04: Purchased 0.6426 shares at $155.61 each.\n",
      "2022-03-07: Purchased 0.6876 shares at $145.44 each.\n",
      "2022-04-04: Purchased 0.6093 shares at $164.12 each.\n",
      "2022-05-03: Purchased 0.8061 shares at $124.05 each.\n",
      "2022-06-01: Purchased 0.8179 shares at $122.26 each.\n",
      "2022-06-30: Purchased 0.9250 shares at $108.11 each.\n",
      "2022-07-29: Purchased 0.7413 shares at $134.90 each.\n",
      "2022-08-26: Purchased 0.7323 shares at $136.55 each.\n",
      "2022-09-26: Purchased 0.8826 shares at $113.30 each.\n",
      "2022-10-24: Purchased 0.8335 shares at $119.98 each.\n",
      "2022-11-21: Purchased 1.0642 shares at $93.97 each.\n",
      "2022-12-20: Purchased 1.1719 shares at $85.33 each.\n",
      "2023-01-20: Purchased 1.0654 shares at $93.86 each.\n",
      "2023-02-17: Purchased 1.0225 shares at $97.80 each.\n",
      "2023-03-20: Purchased 1.0162 shares at $98.41 each.\n",
      "2023-04-18: Purchased 0.9620 shares at $103.95 each.\n",
      "2023-05-16: Purchased 0.9005 shares at $111.05 each.\n",
      "2023-06-14: Purchased 0.7893 shares at $126.70 each.\n",
      "2023-07-14: Purchased 0.7459 shares at $134.06 each.\n",
      "2023-08-11: Purchased 0.7278 shares at $137.40 each.\n",
      "2023-09-11: Purchased 0.7207 shares at $138.75 each.\n",
      "2023-10-09: Purchased 0.7923 shares at $126.22 each.\n",
      "2023-11-06: Purchased 0.7207 shares at $138.76 each.\n",
      "2023-12-05: Purchased 0.6966 shares at $143.55 each.\n",
      "2024-01-04: Purchased 0.6869 shares at $145.59 each.\n",
      "\n",
      "Final Result: 51.9610 fractional shares owned. Remaining cash: $0.00\n",
      "Total Investment Value: $7512.00\n"
     ]
    }
   ],
   "source": [
    "\n",
    "# Iterate through the DataFrame\n",
    "for index, row in df.iterrows():\n",
    "    # Assuming you want to buy stocks based on the 'open' price\n",
    "    stock_price = row['Open']\n",
    "    \n",
    "    \n",
    "    \n",
    "    if reset_counter >= reset_frequency:\n",
    "        cash = initial_cash\n",
    "        days_since_last_purchase = 0\n",
    "        reset_counter = 0\n",
    "        purchase_fraction = cash / stock_price\n",
    "        cash -=purchase_fraction * stock_price\n",
    "        shares += purchase_fraction\n",
    "        \n",
    "        total_investment_value = (shares * row['Close'])\n",
    "        print(f\"{row['Date'].strftime('%Y-%m-%d')}: Purchased {purchase_fraction:.4f} shares at ${stock_price:.2f} each.\")\n",
    "        \n",
    "\n",
    "   \n",
    "\n",
    "    # Increment days_since_last_purchase and reset_counter\n",
    "    days_since_last_purchase += 1\n",
    "    reset_counter += 1\n",
    "\n",
    "# Output the final result\n",
    "print(f\"\\nFinal Result: {shares:.4f} fractional shares owned. Remaining cash: ${cash:.2f}\")\n",
    "print(f\"Total Investment Value: ${total_investment_value:.2f}\")"
   ]
  },
  {
   "cell_type": "code",
   "execution_count": 19,
   "metadata": {},
   "outputs": [],
   "source": [
    "#amount of cash you want to invest initially\n",
    "initial_investment = 1000  \n",
    "initial_cash = initial_investment\n",
    "initial_investment_shares = 0  "
   ]
  },
  {
   "cell_type": "code",
   "execution_count": 20,
   "metadata": {},
   "outputs": [],
   "source": [
    "initial_price = df.iloc[0]\n",
    "current_price = df.iloc[-1]"
   ]
  },
  {
   "cell_type": "code",
   "execution_count": 21,
   "metadata": {},
   "outputs": [
    {
     "name": "stdout",
     "output_type": "stream",
     "text": [
      "13.65001365001365\n"
     ]
    }
   ],
   "source": [
    "initial_purchase = (initial_investment/initial_price['Open'])\n",
    "print(initial_purchase)"
   ]
  },
  {
   "cell_type": "code",
   "execution_count": 22,
   "metadata": {},
   "outputs": [
    {
     "name": "stdout",
     "output_type": "stream",
     "text": [
      "2201.201201201201\n"
     ]
    }
   ],
   "source": [
    "NAV = initial_purchase * current_price['Close']\n",
    "print(NAV)\n",
    "\n"
   ]
  },
  {
   "cell_type": "code",
   "execution_count": 23,
   "metadata": {},
   "outputs": [
    {
     "name": "stdout",
     "output_type": "stream",
     "text": [
      "9713.202664078344\n"
     ]
    }
   ],
   "source": [
    "\n",
    "actual_NAV = NAV + total_investment_value\n",
    "print(actual_NAV)\n"
   ]
  },
  {
   "cell_type": "code",
   "execution_count": null,
   "metadata": {},
   "outputs": [],
   "source": []
  }
 ],
 "metadata": {
  "kernelspec": {
   "display_name": "base",
   "language": "python",
   "name": "python3"
  },
  "language_info": {
   "codemirror_mode": {
    "name": "ipython",
    "version": 3
   },
   "file_extension": ".py",
   "mimetype": "text/x-python",
   "name": "python",
   "nbconvert_exporter": "python",
   "pygments_lexer": "ipython3",
   "version": "3.11.5"
  }
 },
 "nbformat": 4,
 "nbformat_minor": 2
}
